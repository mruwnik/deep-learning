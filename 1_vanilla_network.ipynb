{
 "cells": [
  {
   "cell_type": "markdown",
   "id": "cf07c4c0-1683-4b4d-a020-22381250220b",
   "metadata": {},
   "source": [
    "# Vanilla Neural Network\n",
    "\n",
    "This does what it says it does. Implements a basic NN with sigmoid activations and a L2 cost function. Mostly based on the equations from [Neural Networks and Deep Learning](http://neuralnetworksanddeeplearning.com/chap2.html#the_four_fundamental_equations_behind_backpropagation) and [my notes](https://ahiru.pl/notes/backpropagation/).\n",
    "\n",
    "PyTorch is used here mainly as a numpy wrapper, seeing as batch handling is done manually. That being said, it learns MNIST digits, which is pretty much all this was supposed to do."
   ]
  },
  {
   "cell_type": "code",
   "execution_count": 2,
   "id": "ac212bfe-98f4-4211-954e-b9197e1fc613",
   "metadata": {},
   "outputs": [],
   "source": [
    "import random\n",
    "from datetime import datetime\n",
    "\n",
    "import torch\n",
    "import numpy as np\n",
    "import fastbook\n",
    "from torch import tensor\n",
    "\n",
    "import mnist\n",
    "from monitoring import graph_updater\n",
    "from math_funcs import is_correct, L2, Sigmoid\n",
    "\n",
    "\n",
    "fastbook.setup_book()     \n",
    "\n",
    "training_set, testing_set, validation_set = mnist.datasets(0.8)"
   ]
  },
  {
   "cell_type": "code",
   "execution_count": 4,
   "id": "9c566f3a-ca52-4386-a55c-cf29e23e96cc",
   "metadata": {},
   "outputs": [],
   "source": [
    "class Network:\n",
    "    def __init__(self, layers, nonlinearity=Sigmoid(), cost_func=L2()):\n",
    "        # This assumes that each layer will use the same nonlinearity. Seems\n",
    "        # like a good enough heuristic for now\n",
    "        self.nonlinearity = nonlinearity\n",
    "        self.cost_func = cost_func\n",
    "        self.w = [torch.rand(n_out, n_in) / torch.sqrt(tensor(n_in)) for n_in, n_out in zip(layers, layers[1:])]\n",
    "        self.b = [torch.rand(n_out, 1) for n_out in layers[1:]]\n",
    "        \n",
    "    def forward(self, inputs):\n",
    "        \"\"\"Do a forward pass and return all the activations for each layer.\n",
    "        \n",
    "        The inputs will be the first element of the activations.\n",
    "        The actual output of the network is the last element of the resulting list.\n",
    "        \"\"\"\n",
    "        a = inputs\n",
    "        activations = [a]\n",
    "        for w, b in zip(self.w, self.b):\n",
    "            a = self.nonlinearity(w @ a + b)\n",
    "            activations.append(a)\n",
    "        return activations\n",
    "         \n",
    "    def step(self, inputs):\n",
    "        \"\"\"\"Get the outputs from running the given `inputs` through the network.\"\"\"\n",
    "        return self.forward(inputs)[-1]\n",
    "    \n",
    "    def gradient(self, activations, expected):\n",
    "        \"\"\"Calculate the gradient(s).\n",
    "        \n",
    "        :param list activations: a list of per layer activations from the forward pass\n",
    "        :param tensor expected: the expected output of the network, i.e. the label for\n",
    "                                the inputs\n",
    "        :returns: a list of per layer (dw, db) gradients, from the first layer to the last\n",
    "        \n",
    "        Seeing as it uses pytorch, either single items, or tensors of items can be\n",
    "        provided.\n",
    "        \n",
    "        This is based on http://neuralnetworksanddeeplearning.com/chap2.html#the_four_fundamental_equations_behind_backpropagation\n",
    "        and https://ahiru.pl/notes/backpropagation/ \n",
    "        \"\"\"\n",
    "        layer_gradients = []\n",
    "       \n",
    "        # Calculate the gradients for the final layer, which is\n",
    "        # different from the rest in that it's based directly on\n",
    "        # The cost function, as opposed to the error of a later\n",
    "        # layer\n",
    "        in_ = activations[-2]\n",
    "        out = activations[-1]\n",
    "\n",
    "        nabla_C = self.cost_func.deriv(out, expected)\n",
    "        sigma_L = self.nonlinearity.deriv(out)\n",
    "        delta_L = nabla_C * self.nonlinearity.deriv(out)\n",
    "\n",
    "        prev_delta = delta_L\n",
    "        \n",
    "        dw = prev_delta @ torch.transpose(in_, 0, 1) \n",
    "        db = prev_delta \n",
    "        layer_gradients.append([dw, db])\n",
    "        \n",
    "        # Now for each layer, starting from the last-but-one and going\n",
    "        # to the first one, calculate the gradients of the weights and\n",
    "        # biases\n",
    "        for l in range(len(self.w) - 2, -1, -1):\n",
    "            in_ = activations[l]\n",
    "            out = activations[l+1]\n",
    "            \n",
    "            delta_l = (torch.transpose(self.w[l+1], 0, 1) @ prev_delta) * self.nonlinearity.deriv(out)\n",
    "            prev_delta = delta_l\n",
    "            \n",
    "            dw = delta_l @ torch.transpose(in_, 0, 1)\n",
    "            db = delta_l\n",
    "            \n",
    "            layer_gradients.append([dw, db])\n",
    "        \n",
    "        # The `layer_gradients` list is from the last to first layer,\n",
    "        # so reverse it\n",
    "        return list(reversed(layer_gradients))\n",
    "    \n",
    "    def update(self, gradient, lr):\n",
    "        # For each layer of the gradient list, update the\n",
    "        # weights and biases for that layer\n",
    "        for i, (w, b) in enumerate(gradient):\n",
    "            self.w[i] -= lr * w\n",
    "            self.b[i] -= lr * b\n",
    "            \n",
    "    def cost(self, expected, output):\n",
    "        \"\"\"Calculate the cost between the label and what the network predicted.\"\"\"\n",
    "        return self.cost_func(expected, output)\n",
    "        "
   ]
  },
  {
   "cell_type": "code",
   "execution_count": 3,
   "id": "56a6571d-afca-4811-90c8-7fe7212d9587",
   "metadata": {},
   "outputs": [],
   "source": [
    "# The gradients are collected per input, but they should be applied per batch. These\n",
    "# functions mangle the gradient lists from [<grad 1>, <grad 2>, ...] to \n",
    "# [<mean grad for layer 1>, <mean grad for layer 2>, ...]\n",
    "\n",
    "def merge_layer_grads(grads):\n",
    "    return [torch.stack(i).mean(0) for i in zip(*grads)]\n",
    "    \n",
    "\n",
    "def merge_grads(grads):\n",
    "    return [merge_layer_grads(l) for l in zip(*grads)]"
   ]
  },
  {
   "cell_type": "code",
   "execution_count": 9,
   "id": "221de779-4e9d-46a6-a6f5-ac521f3d8848",
   "metadata": {},
   "outputs": [],
   "source": [
    "def run_epoch(network, dataset, lr):\n",
    "    accuracy = []\n",
    "    costs = []\n",
    "    \n",
    "    for batch in iter(dataset):\n",
    "        grads = []\n",
    "        for xs, expected in zip(*batch):\n",
    "            activations = network.forward(xs)\n",
    "            output = activations[-1]\n",
    "            grad = network.gradient(activations, expected)\n",
    "            grads.append(grad)\n",
    "            \n",
    "            cost = network.cost(expected, output)\n",
    "            \n",
    "            accuracy.append(is_correct(expected, output))\n",
    "            costs.append(cost)\n",
    "         \n",
    "        grad = merge_grads(grads)\n",
    "        network.update(grad, lr)\n",
    "\n",
    "    return tensor(accuracy).float().mean(), torch.stack(costs).mean()\n",
    "\n",
    "\n",
    "def train(network, dataset, epochs, lr, show_progress=True):\n",
    "    if show_progress:\n",
    "        add_datapoint = graph_updater()\n",
    "    \n",
    "    for epoch in range(epochs):\n",
    "        start = datetime.now()\n",
    "        \n",
    "        avg_accuracy, avg_cost = run_epoch(network, dataset, lr)\n",
    "        \n",
    "        if show_progress and (not epoch % 1):\n",
    "            print(f'epoch {epoch}: accuracy={round(avg_accuracy.item(), 3)}, cost={round(avg_cost.item(), 3)}, time: {datetime.now() - start}')\n",
    "            add_datapoint(avg_accuracy)\n",
    "    \n",
    "    return avg_accuracy, avg_cost"
   ]
  },
  {
   "cell_type": "code",
   "execution_count": 12,
   "id": "2485578e-c56f-4263-b90d-da629ccb9440",
   "metadata": {},
   "outputs": [],
   "source": [
    "n = Network((28*28, 50, 10))"
   ]
  },
  {
   "cell_type": "code",
   "execution_count": 13,
   "id": "f77eb00b-a945-489f-a4a9-d17627ffee90",
   "metadata": {},
   "outputs": [
    {
     "data": {
      "text/plain": [
       "(tensor(0.8565), tensor(0.1154))"
      ]
     },
     "execution_count": 13,
     "metadata": {},
     "output_type": "execute_result"
    },
    {
     "data": {
      "image/png": "[encoded data removed]",
      "text/plain": [
       "<Figure size 432x288 with 1 Axes>"
      ]
     },
     "metadata": {
      "needs_background": "light"
     },
     "output_type": "display_data"
    }
   ],
   "source": [
    "train(n, training_set, epochs=7, lr=3)"
   ]
  },
  {
   "cell_type": "code",
   "execution_count": null,
   "id": "36530004-0a00-4e5c-9d80-3abe2a432f07",
   "metadata": {},
   "outputs": [],
   "source": []
  }
 ],
 "metadata": {
  "kernelspec": {
   "display_name": "Python 3 (ipykernel)",
   "language": "python",
   "name": "python3"
  },
  "language_info": {
   "codemirror_mode": {
    "name": "ipython",
    "version": 3
   },
   "file_extension": ".py",
   "mimetype": "text/x-python",
   "name": "python",
   "nbconvert_exporter": "python",
   "pygments_lexer": "ipython3",
   "version": "3.10.4"
  }
 },
 "nbformat": 4,
 "nbformat_minor": 5
}

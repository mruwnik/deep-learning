{
 "cells": [
  {
   "cell_type": "markdown",
   "id": "d3302e1d-f95b-4589-bc84-02f12c1840a8",
   "metadata": {},
   "source": [
    "# Cross entropy and softmax\n"
   ]
  },
  {
   "cell_type": "code",
   "execution_count": 1,
   "id": "ac212bfe-98f4-4211-954e-b9197e1fc613",
   "metadata": {},
   "outputs": [
    {
     "name": "stdout",
     "output_type": "stream",
     "text": [
      "48000 10000 12000\n"
     ]
    }
   ],
   "source": [
    "import random\n",
    "from datetime import datetime\n",
    "\n",
    "import torch\n",
    "import numpy as np\n",
    "import fastbook\n",
    "from torch import tensor\n",
    "\n",
    "import mnist\n",
    "from monitoring import graph_updater\n",
    "from math_funcs import get_accuracy, Sigmoid, ReLU, CrossEntropy, L2\n",
    "from network import Network\n",
    "\n",
    "fastbook.setup_book()     \n",
    "\n",
    "training_set, testing_set, validation_set = mnist.datasets(0.8)"
   ]
  },
  {
   "cell_type": "code",
   "execution_count": 19,
   "id": "524ad16d-4a40-48b4-be08-4e1ab1c27c20",
   "metadata": {},
   "outputs": [],
   "source": [
    "def validate(network, dataset):\n",
    "    costs, accuracy = [], []\n",
    "    for xs, expected in iter(dataset):\n",
    "        a = network.step(xs)\n",
    "        accuracy.append(get_accuracy(expected, a))\n",
    "        costs.append(network.cost(expected, a))\n",
    "\n",
    "    return torch.cat(costs).mean(), torch.stack(accuracy).mean()\n"
   ]
  },
  {
   "cell_type": "code",
   "execution_count": 5,
   "id": "e91c1bdb-7bcf-40ce-89c2-8971b151d306",
   "metadata": {},
   "outputs": [],
   "source": [
    "def run_batch(network, lr, batch):\n",
    "    xs, expected = batch\n",
    "    activations = network.forward(xs)\n",
    "    output = activations[-1]\n",
    "    grad = network.gradient(activations, expected)\n",
    "    network.update(grad, lr)\n",
    "    return get_accuracy(expected, output), network.cost(expected, output)\n",
    "\n",
    "\n",
    "def run_epoch(network, dataset, lr):\n",
    "    accuracy = []\n",
    "    costs = []\n",
    "    \n",
    "    for batch in iter(dataset):\n",
    "        a, c = run_batch(network, lr, batch)\n",
    "        accuracy.append(a)\n",
    "        costs.append(c)\n",
    "\n",
    "    return tensor(accuracy).float().mean(), torch.stack(costs).mean()\n",
    "\n",
    "\n",
    "def train(network, dataset, epochs, lr, show_progress=True, test_set=None):\n",
    "    if show_progress:\n",
    "        add_datapoint = graph_updater()\n",
    "    \n",
    "    for epoch in range(epochs):\n",
    "        start = datetime.now()\n",
    "        \n",
    "        avg_accuracy, avg_cost = run_epoch(network, dataset, lr)\n",
    "        \n",
    "        if show_progress and (not epoch % 1):\n",
    "            print(f'epoch {epoch}: accuracy={round(avg_accuracy.item(), 3)}, cost={round(avg_cost.item(), 3)}, time: {datetime.now() - start}')\n",
    "            if test_set is not None:\n",
    "                test_cost, test_accuracy = validate(network, test_set)\n",
    "                print(f'test accuracy: {round(test_accuracy.item(), 3)}, test cost: {round(test_cost.item(), 3)}')\n",
    "                add_datapoint(test_accuracy)\n",
    "            else: \n",
    "                add_datapoint(avg_accuracy)\n",
    "    \n",
    "    return avg_accuracy, avg_cost"
   ]
  },
  {
   "cell_type": "code",
   "execution_count": 6,
   "id": "2485578e-c56f-4263-b90d-da629ccb9440",
   "metadata": {},
   "outputs": [],
   "source": [
    "n = Network((28*28, 100, 10))"
   ]
  },
  {
   "cell_type": "code",
   "execution_count": 7,
   "id": "6f98a992-6a40-4a16-ae62-45fbda0ea40b",
   "metadata": {},
   "outputs": [],
   "source": [
    "n_items = 1000\n",
    "data = mnist.sample(n_items, 10)"
   ]
  },
  {
   "cell_type": "code",
   "execution_count": 8,
   "id": "445511d8-94b0-46b2-a96b-4d35f2eb8e95",
   "metadata": {},
   "outputs": [],
   "source": [
    "#data = mnist.sample(len(training_set.dataset), 64)\n",
    "data = training_set\n",
    "n_items = len(training_set.dataset)\n",
    "\n",
    "network_size = (28*28, 100, 10)\n",
    "epochs = 10"
   ]
  },
  {
   "cell_type": "code",
   "execution_count": 25,
   "id": "5187bdef-3f93-4973-9d3b-38342a5c432a",
   "metadata": {},
   "outputs": [
    {
     "data": {
      "text/plain": [
       "(tensor(0.9651), tensor(0.0320))"
      ]
     },
     "execution_count": 25,
     "metadata": {},
     "output_type": "execute_result"
    },
    {
     "data": {
      "image/png": "[encoded data removed]",
      "text/plain": [
       "<Figure size 432x288 with 1 Axes>"
      ]
     },
     "metadata": {
      "needs_background": "light"
     },
     "output_type": "display_data"
    }
   ],
   "source": [
    "n = Network(network_size)\n",
    "train(n, data, epochs=epochs, lr=1, test_set=testing_set)"
   ]
  },
  {
   "cell_type": "markdown",
   "id": "b3265c68-c6eb-4f27-8d2b-d8b94f375e6e",
   "metadata": {},
   "source": [
    "# Cross Entropy loss\n",
    "\n",
    "Cross entropy was [specially crafted](http://neuralnetworksanddeeplearning.com/chap3.html#what_does_the_cross-entropy_mean_where_does_it_come_from) to handle the slowdown caused by sigmoid derivatives when using a L2 cost function, and it shows. For the following toy networks, just changing the cost function to Cross-Entropy from L2 give a 10 times learning speed boost. It also seems to converge right out of the box, with an almost 90% accuracy after the first epoch. Not bad!"
   ]
  },
  {
   "cell_type": "code",
   "execution_count": 9,
   "id": "f77eb00b-a945-489f-a4a9-d17627ffee90",
   "metadata": {},
   "outputs": [
    {
     "data": {
      "text/plain": [
       "(tensor(0.9575), tensor(46.3093))"
      ]
     },
     "execution_count": 9,
     "metadata": {},
     "output_type": "execute_result"
    },
    {
     "data": {
      "image/png": "[encoded data removed]",
      "text/plain": [
       "<Figure size 432x288 with 1 Axes>"
      ]
     },
     "metadata": {
      "needs_background": "light"
     },
     "output_type": "display_data"
    }
   ],
   "source": [
    "n = Network(network_size, cost_func=CrossEntropy())\n",
    "train(n, data, epochs=epochs, lr=0.1, test_set=testing_set)"
   ]
  },
  {
   "cell_type": "code",
   "execution_count": 10,
   "id": "c828c4a4-5a76-4647-b30f-1c5298ed273a",
   "metadata": {},
   "outputs": [
    {
     "data": {
      "text/plain": [
       "(tensor(0.9689), tensor(45.6767))"
      ]
     },
     "execution_count": 10,
     "metadata": {},
     "output_type": "execute_result"
    },
    {
     "data": {
      "image/png": "[encoded data removed]",
      "text/plain": [
       "<Figure size 432x288 with 1 Axes>"
      ]
     },
     "metadata": {
      "needs_background": "light"
     },
     "output_type": "display_data"
    }
   ],
   "source": [
    "n = Network(\n",
    "    network_size,\n",
    "    cost_func=CrossEntropy(),\n",
    "    regularizator=L2,\n",
    "    regularization_term=1/n_items\n",
    ")\n",
    "train(n, data, epochs=epochs, lr=0.5, test_set=testing_set)"
   ]
  },
  {
   "cell_type": "markdown",
   "id": "631a76f4-4f19-4518-8dc4-5d7bb93742cb",
   "metadata": {},
   "source": [
    "# ReLU\n",
    "I've read in many places that ReLU is the way to go when choosing activation functions, but I'm not impressed. I wonder what I did wrong... It certainly seems very sensitive to the learning rate.\n",
    "Using ReLU with a L2 cost function does not work at all. Interesting. This seems like something worth diving deeper into. Fiddling with the learning rate didn't give any bigger gains. "
   ]
  },
  {
   "cell_type": "code",
   "execution_count": 13,
   "id": "421d84a5-a0d4-4aed-90e6-a706e2ec995d",
   "metadata": {},
   "outputs": [
    {
     "data": {
      "text/plain": [
       "(tensor(0.1121), tensor(0.4596))"
      ]
     },
     "execution_count": 13,
     "metadata": {},
     "output_type": "execute_result"
    },
    {
     "data": {
      "image/png": "[encoded data removed]",
      "text/plain": [
       "<Figure size 432x288 with 1 Axes>"
      ]
     },
     "metadata": {
      "needs_background": "light"
     },
     "output_type": "display_data"
    }
   ],
   "source": [
    "n = Network(network_size, nonlinearity=ReLU())\n",
    "train(n, data, epochs=epochs, lr=0.002, test_set=testing_set)"
   ]
  },
  {
   "cell_type": "code",
   "execution_count": 16,
   "id": "79dbd39e-24ed-411d-9f88-3ba3e42a5c17",
   "metadata": {},
   "outputs": [
    {
     "data": {
      "text/plain": [
       "(tensor(0.8835), tensor(51.7413))"
      ]
     },
     "execution_count": 16,
     "metadata": {},
     "output_type": "execute_result"
    },
    {
     "data": {
      "image/png": "[encoded data removed]",
      "text/plain": [
       "<Figure size 432x288 with 1 Axes>"
      ]
     },
     "metadata": {
      "needs_background": "light"
     },
     "output_type": "display_data"
    }
   ],
   "source": [
    "n = Network(\n",
    "    network_size,\n",
    "    nonlinearity=ReLU(),\n",
    "    cost_func=CrossEntropy()\n",
    ")\n",
    "train(n, data, epochs=epochs, lr=0.001, test_set=testing_set)"
   ]
  },
  {
   "cell_type": "code",
   "execution_count": 17,
   "id": "94321200-450e-4048-bea2-4a82fb06f67c",
   "metadata": {},
   "outputs": [
    {
     "data": {
      "text/plain": [
       "(tensor(0.8834), tensor(51.8189))"
      ]
     },
     "execution_count": 17,
     "metadata": {},
     "output_type": "execute_result"
    },
    {
     "data": {
      "image/png": "[encoded data removed]",
      "text/plain": [
       "<Figure size 432x288 with 1 Axes>"
      ]
     },
     "metadata": {
      "needs_background": "light"
     },
     "output_type": "display_data"
    }
   ],
   "source": [
    "n = Network(\n",
    "    network_size,\n",
    "    nonlinearity=ReLU(),\n",
    "    cost_func=CrossEntropy(),\n",
    "    regularizator=L2,\n",
    "    regularization_term=5/n_items\n",
    ")\n",
    "train(n, data, epochs=epochs, lr=0.001, test_set=testing_set)"
   ]
  },
  {
   "cell_type": "code",
   "execution_count": null,
   "id": "6c2ed536-c303-4326-a23e-ed925d41e6d1",
   "metadata": {},
   "outputs": [],
   "source": []
  }
 ],
 "metadata": {
  "kernelspec": {
   "display_name": "Python 3 (ipykernel)",
   "language": "python",
   "name": "python3"
  },
  "language_info": {
   "codemirror_mode": {
    "name": "ipython",
    "version": 3
   },
   "file_extension": ".py",
   "mimetype": "text/x-python",
   "name": "python",
   "nbconvert_exporter": "python",
   "pygments_lexer": "ipython3",
   "version": "3.10.4"
  }
 },
 "nbformat": 4,
 "nbformat_minor": 5
}

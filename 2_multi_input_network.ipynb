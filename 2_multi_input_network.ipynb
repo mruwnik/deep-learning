{
 "cells": [
  {
   "cell_type": "markdown",
   "id": "c1d43a9a-0aaf-403c-a013-5989b30e4046",
   "metadata": {},
   "source": [
    "# Broadcasted NN\n",
    "This notebook extends the previous one with proper PyTorch batch handling. I expected greater speed ups, but I'm guessing a large part of that is disk IO from the data loader reading the images each time.\n",
    "\n",
    "It's interesting how batch size interacts with the learning rate.\n",
    "Also how sometimes there is a smooth accuracy gain, while other times it's very puntuated equilibrium."
   ]
  },
  {
   "cell_type": "code",
   "execution_count": 1,
   "id": "ac212bfe-98f4-4211-954e-b9197e1fc613",
   "metadata": {},
   "outputs": [
    {
     "name": "stdout",
     "output_type": "stream",
     "text": [
      "1600 334 400\n"
     ]
    }
   ],
   "source": [
    "import random\n",
    "from datetime import datetime\n",
    "\n",
    "import torch\n",
    "import numpy as np\n",
    "import fastbook\n",
    "from torch import tensor\n",
    "\n",
    "import mnist\n",
    "from monitoring import graph_updater\n",
    "from math_funcs import get_accuracy, L2, Sigmoid\n",
    "from network import Network\n",
    "\n",
    "fastbook.setup_book()     \n",
    "\n",
    "training_set, testing_set, validation_set = mnist.datasets(0.8)"
   ]
  },
  {
   "cell_type": "code",
   "execution_count": 2,
   "id": "e91c1bdb-7bcf-40ce-89c2-8971b151d306",
   "metadata": {},
   "outputs": [],
   "source": [
    "def run_epoch(network, dataset, lr):\n",
    "    accuracy = []\n",
    "    costs = []\n",
    "    \n",
    "    for xs, expected in iter(dataset):\n",
    "        activations = network.forward(xs)\n",
    "        output = activations[-1]\n",
    "        grad = network.gradient(activations, expected)\n",
    "        network.update(grad, lr)\n",
    "        \n",
    "        accuracy.append(get_accuracy(expected, output))\n",
    "        costs.append(network.cost(expected, output))\n",
    "\n",
    "    return tensor(accuracy).float().mean(), torch.stack(costs).mean()\n",
    "\n",
    "\n",
    "def train(network, dataset, epochs, lr, show_progress=True):\n",
    "    if show_progress:\n",
    "        add_datapoint = graph_updater()\n",
    "    \n",
    "    for epoch in range(epochs):\n",
    "        start = datetime.now()\n",
    "        \n",
    "        avg_accuracy, avg_cost = run_epoch(network, dataset, lr)\n",
    "        \n",
    "        if show_progress and (not epoch % 1):\n",
    "            print(f'epoch {epoch}: accuracy={round(avg_accuracy.item(), 3)}, cost={round(avg_cost.item(), 3)}, time: {datetime.now() - start}')\n",
    "            add_datapoint(avg_accuracy)\n",
    "    \n",
    "    return avg_accuracy, avg_cost"
   ]
  },
  {
   "cell_type": "code",
   "execution_count": 14,
   "id": "2485578e-c56f-4263-b90d-da629ccb9440",
   "metadata": {},
   "outputs": [],
   "source": [
    "n = Network((28*28, 100, 10))"
   ]
  },
  {
   "cell_type": "code",
   "execution_count": null,
   "id": "f77eb00b-a945-489f-a4a9-d17627ffee90",
   "metadata": {},
   "outputs": [
    {
     "name": "stdout",
     "output_type": "stream",
     "text": [
      "epoch 220: accuracy=0.901, cost=0.082, time: 0:00:01.215700\n"
     ]
    },
    {
     "data": {
      "image/png": "[encoded data removed]",
      "text/plain": [
       "<Figure size 432x288 with 1 Axes>"
      ]
     },
     "metadata": {},
     "output_type": "display_data"
    }
   ],
   "source": [
    "#data = mnist.sample(len(training_set.dataset), 64)\n",
    "data = mnist.sample(256 * 20, 256)\n",
    "train(n, data, epochs=700, lr=3)"
   ]
  }
 ],
 "metadata": {
  "kernelspec": {
   "display_name": "Python 3 (ipykernel)",
   "language": "python",
   "name": "python3"
  },
  "language_info": {
   "codemirror_mode": {
    "name": "ipython",
    "version": 3
   },
   "file_extension": ".py",
   "mimetype": "text/x-python",
   "name": "python",
   "nbconvert_exporter": "python",
   "pygments_lexer": "ipython3",
   "version": "3.10.4"
  }
 },
 "nbformat": 4,
 "nbformat_minor": 5
}
